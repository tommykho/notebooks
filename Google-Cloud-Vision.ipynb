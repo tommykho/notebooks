{
 "cells": [
  {
   "cell_type": "markdown",
   "id": "70ed7761-19a2-444c-a79d-fa247dfeda11",
   "metadata": {},
   "source": [
    "### google-cloud-vision"
   ]
  },
  {
   "cell_type": "code",
   "execution_count": 1,
   "id": "b6955992-9f2c-49fc-bf09-f1e22aa25aec",
   "metadata": {},
   "outputs": [],
   "source": [
    "# pip install --upgrade google-cloud-vision\n",
    "# set GOOGLE_APPLICATION_CREDENTIALS=\"C:\\Users\\tommy\\google-asf.json\""
   ]
  },
  {
   "cell_type": "code",
   "execution_count": 4,
   "id": "7108264d-2290-42d2-85e2-c54ddb08bb0f",
   "metadata": {},
   "outputs": [
    {
     "name": "stderr",
     "output_type": "stream",
     "text": [
      "'[a]' is not recognized as an internal or external command,\n",
      "operable program or batch file.\n"
     ]
    }
   ],
   "source": []
  },
  {
   "cell_type": "code",
   "execution_count": null,
   "id": "52d24f6a-e75b-4608-82ad-0d877611a95b",
   "metadata": {},
   "outputs": [],
   "source": []
  }
 ],
 "metadata": {
  "kernelspec": {
   "display_name": "Python 3 (ipykernel)",
   "language": "python",
   "name": "python3"
  },
  "language_info": {
   "codemirror_mode": {
    "name": "ipython",
    "version": 3
   },
   "file_extension": ".py",
   "mimetype": "text/x-python",
   "name": "python",
   "nbconvert_exporter": "python",
   "pygments_lexer": "ipython3",
   "version": "3.10.1"
  }
 },
 "nbformat": 4,
 "nbformat_minor": 5
}
